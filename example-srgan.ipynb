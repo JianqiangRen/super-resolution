{
 "cells": [
  {
   "cell_type": "code",
   "execution_count": null,
   "metadata": {},
   "outputs": [],
   "source": [
    "import os\n",
    "\n",
    "os.environ['CUDA_VISIBLE_DEVICES'] = '0'"
   ]
  },
  {
   "cell_type": "code",
   "execution_count": null,
   "metadata": {},
   "outputs": [],
   "source": [
    "import time\n",
    "\n",
    "import numpy as np\n",
    "import tensorflow as tf\n",
    "import matplotlib.pyplot as plt\n",
    "\n",
    "from data import DIV2K\n",
    "from metric import psnr\n",
    "from model import srgan\n",
    "\n",
    "from tensorflow.keras.applications.vgg19 import preprocess_input    \n",
    "from tensorflow.keras.optimizers import Adam\n",
    "from tensorflow.keras.utils import plot_model\n",
    "\n",
    "from PIL import Image\n",
    "\n",
    "%matplotlib inline"
   ]
  },
  {
   "cell_type": "code",
   "execution_count": null,
   "metadata": {},
   "outputs": [],
   "source": [
    "os.makedirs('weights/srgan', exist_ok=True)"
   ]
  },
  {
   "cell_type": "markdown",
   "metadata": {},
   "source": [
    "### Datasets"
   ]
  },
  {
   "cell_type": "code",
   "execution_count": null,
   "metadata": {},
   "outputs": [],
   "source": [
    "scale = 4\n",
    "batch_size = 16"
   ]
  },
  {
   "cell_type": "code",
   "execution_count": null,
   "metadata": {},
   "outputs": [],
   "source": [
    "train_x4 = DIV2K(scale=scale, subset='train')\n",
    "valid_x4 = DIV2K(scale=scale, subset='valid')"
   ]
  },
  {
   "cell_type": "code",
   "execution_count": null,
   "metadata": {},
   "outputs": [],
   "source": [
    "train_x4_ds = train_x4.dataset(batch_size=batch_size)\n",
    "valid_x4_ds = valid_x4.dataset(batch_size=batch_size)"
   ]
  },
  {
   "cell_type": "markdown",
   "metadata": {},
   "source": [
    "### Generator pre-training"
   ]
  },
  {
   "cell_type": "code",
   "execution_count": null,
   "metadata": {
    "scrolled": true
   },
   "outputs": [],
   "source": [
    "generator = srgan.generator()\n",
    "generator.compile(optimizer=Adam(lr=1e-4), loss='mean_squared_error', metrics=[psnr])\n",
    "generator.fit(train_x4_ds, epochs=20000)\n",
    "generator.save_weights(f'weights/srgan/pre_generator.h5')"
   ]
  },
  {
   "cell_type": "markdown",
   "metadata": {},
   "source": [
    "### Generator fine-tuning (GAN)"
   ]
  },
  {
   "cell_type": "code",
   "execution_count": null,
   "metadata": {},
   "outputs": [],
   "source": [
    "generator = srgan.generator()\n",
    "generator_optimizer = Adam()\n",
    "generator.load_weights('weights/srgan/pre_generator.h5')\n",
    "\n",
    "discriminator = srgan.discriminator()\n",
    "discriminator_optimizer = Adam()"
   ]
  },
  {
   "cell_type": "code",
   "execution_count": null,
   "metadata": {},
   "outputs": [],
   "source": [
    "mean_squared_error = tf.keras.losses.MeanSquaredError()\n",
    "\n",
    "vgg = srgan.vgg_54()\n",
    "\n",
    "@tf.function\n",
    "def content_loss(hr, sr):\n",
    "    sr = preprocess_input(sr)\n",
    "    hr = preprocess_input(hr)\n",
    "    sr_features = vgg(sr) / 12.75\n",
    "    hr_features = vgg(hr) / 12.75\n",
    "    return mean_squared_error(hr_features, sr_features)"
   ]
  },
  {
   "cell_type": "code",
   "execution_count": null,
   "metadata": {},
   "outputs": [],
   "source": [
    "cross_entropy = tf.keras.losses.BinaryCrossentropy(from_logits=False)\n",
    "\n",
    "def generator_loss(sr_out):\n",
    "    return cross_entropy(tf.ones_like(sr_out), sr_out)\n",
    "\n",
    "def discriminator_loss(hr_out, sr_out):\n",
    "    hr_loss = cross_entropy(tf.ones_like(hr_out), hr_out)\n",
    "    sr_loss = cross_entropy(tf.zeros_like(sr_out), sr_out)\n",
    "    return hr_loss + sr_loss"
   ]
  },
  {
   "cell_type": "code",
   "execution_count": null,
   "metadata": {},
   "outputs": [],
   "source": [
    "@tf.function\n",
    "def train_step(lr, hr):\n",
    "    with tf.GradientTape() as gen_tape, tf.GradientTape() as disc_tape:\n",
    "        lr = tf.cast(lr, tf.float32)\n",
    "        hr = tf.cast(hr, tf.float32)\n",
    "        \n",
    "        sr = generator(lr, training=True)\n",
    "\n",
    "        hr_output = discriminator(hr, training=True)\n",
    "        sr_output = discriminator(sr, training=True)\n",
    "\n",
    "        con_loss = content_loss(hr, sr)\n",
    "        gen_loss = generator_loss(sr_output)\n",
    "        perc_loss = con_loss + 0.001 * gen_loss\n",
    "        disc_loss = discriminator_loss(hr_output, sr_output)\n",
    "\n",
    "    gradients_of_generator = gen_tape.gradient(perc_loss, generator.trainable_variables)\n",
    "    gradients_of_discriminator = disc_tape.gradient(disc_loss, discriminator.trainable_variables)\n",
    "\n",
    "    generator_optimizer.apply_gradients(zip(gradients_of_generator, generator.trainable_variables))\n",
    "    discriminator_optimizer.apply_gradients(zip(gradients_of_discriminator, discriminator.trainable_variables))\n",
    "    \n",
    "    return perc_loss, disc_loss"
   ]
  },
  {
   "cell_type": "code",
   "execution_count": null,
   "metadata": {
    "scrolled": true
   },
   "outputs": [],
   "source": [
    "for learning_rate in [1e-4, 1e-5]:\n",
    "    generator_optimizer.lr = learning_rate\n",
    "    discriminator_optimizer.lr = learning_rate\n",
    "    \n",
    "    for i in range(2000):\n",
    "        pls = []\n",
    "        dls = []\n",
    "        \n",
    "        for lr, hr in train_x4_ds:\n",
    "            pl, dl = train_step(lr, hr)\n",
    "            pls.append(pl.numpy())\n",
    "            dls.append(dl.numpy())\n",
    "        \n",
    "        print(f'Epoch: {i+1:04d}, lr = {learning_rate:.2e}, perceptual loss = {np.mean(pls):.4f}, discriminator loss = {np.mean(dls):.4f}')"
   ]
  },
  {
   "cell_type": "code",
   "execution_count": null,
   "metadata": {},
   "outputs": [],
   "source": [
    "generator.save_weights(f'weights/srgan/gan_generator.h5')\n",
    "discriminator.save_weights(f'weights/srgan/gan_discriminator.h5')"
   ]
  },
  {
   "cell_type": "markdown",
   "metadata": {},
   "source": [
    "### Plot samples"
   ]
  },
  {
   "cell_type": "code",
   "execution_count": null,
   "metadata": {},
   "outputs": [],
   "source": [
    "pre_generator = srgan.generator()\n",
    "gan_generator = srgan.generator()\n",
    "\n",
    "pre_generator.load_weights('weights/srgan/pre_generator.h5')\n",
    "gan_generator.load_weights('weights/srgan/gan_generator.h5')"
   ]
  },
  {
   "cell_type": "code",
   "execution_count": null,
   "metadata": {},
   "outputs": [],
   "source": [
    "def plot_sample(lr_image_path):\n",
    "    lr = np.expand_dims(Image.open(lr_image_path), axis=0)\n",
    "    pre_sr = tf.cast(pre_generator.predict(lr), tf.uint8)\n",
    "    gan_sr = tf.cast(gan_generator.predict(lr), tf.uint8)\n",
    "    \n",
    "    plt.figure(figsize=(20, 20))\n",
    "    \n",
    "    images = [lr[0], pre_sr[0], gan_sr[0]]\n",
    "    titles = ['LR', 'SR (PRE)', 'SR (GAN)']\n",
    "    positions = [1, 3, 4]\n",
    "    \n",
    "    for i, (img, title, pos) in enumerate(zip(images, titles, positions)):\n",
    "        plt.subplot(2, 2, pos)\n",
    "        plt.imshow(img)\n",
    "        plt.title(title)\n",
    "        plt.xticks([])\n",
    "        plt.yticks([])"
   ]
  },
  {
   "cell_type": "code",
   "execution_count": null,
   "metadata": {},
   "outputs": [],
   "source": [
    "plot_sample('demo/0869x4-crop.png')"
   ]
  },
  {
   "cell_type": "code",
   "execution_count": null,
   "metadata": {},
   "outputs": [],
   "source": [
    "plot_sample('demo/0829x4-crop.png')"
   ]
  },
  {
   "cell_type": "code",
   "execution_count": null,
   "metadata": {},
   "outputs": [],
   "source": [
    "plot_sample('demo/0851x4-crop.png')"
   ]
  },
  {
   "cell_type": "code",
   "execution_count": null,
   "metadata": {},
   "outputs": [],
   "source": []
  }
 ],
 "metadata": {
  "kernelspec": {
   "display_name": "Python 3",
   "language": "python",
   "name": "python3"
  },
  "language_info": {
   "codemirror_mode": {
    "name": "ipython",
    "version": 3
   },
   "file_extension": ".py",
   "mimetype": "text/x-python",
   "name": "python",
   "nbconvert_exporter": "python",
   "pygments_lexer": "ipython3",
   "version": "3.6.8"
  }
 },
 "nbformat": 4,
 "nbformat_minor": 2
}
